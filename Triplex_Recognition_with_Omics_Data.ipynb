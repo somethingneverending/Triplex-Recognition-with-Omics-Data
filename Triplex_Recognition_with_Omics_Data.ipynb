{
  "nbformat": 4,
  "nbformat_minor": 0,
  "metadata": {
    "colab": {
      "name": "Triplex Recognition with Omics Data.ipynb",
      "provenance": [],
      "collapsed_sections": [],
      "authorship_tag": "ABX9TyM1kvP0wzAAH3mtYWnOpBf6"
    },
    "kernelspec": {
      "display_name": "Python 3",
      "name": "python3"
    },
    "language_info": {
      "name": "python"
    },
    "widgets": {
      "application/vnd.jupyter.widget-state+json": {
        "e2fbbd3a6f424cc8bd9e6c7cef675e69": {
          "model_module": "@jupyter-widgets/controls",
          "model_name": "HBoxModel",
          "state": {
            "_view_name": "HBoxView",
            "_dom_classes": [],
            "_model_name": "HBoxModel",
            "_view_module": "@jupyter-widgets/controls",
            "_model_module_version": "1.5.0",
            "_view_count": null,
            "_view_module_version": "1.5.0",
            "box_style": "",
            "layout": "IPY_MODEL_c57902b50abb45c5aaa89399b5d9485e",
            "_model_module": "@jupyter-widgets/controls",
            "children": [
              "IPY_MODEL_5cae710372394f9c96fa806281ecb7db",
              "IPY_MODEL_19fd38c10598412a9aa75948dd5f1bfc"
            ]
          }
        },
        "c57902b50abb45c5aaa89399b5d9485e": {
          "model_module": "@jupyter-widgets/base",
          "model_name": "LayoutModel",
          "state": {
            "_view_name": "LayoutView",
            "grid_template_rows": null,
            "right": null,
            "justify_content": null,
            "_view_module": "@jupyter-widgets/base",
            "overflow": null,
            "_model_module_version": "1.2.0",
            "_view_count": null,
            "flex_flow": null,
            "width": null,
            "min_width": null,
            "border": null,
            "align_items": null,
            "bottom": null,
            "_model_module": "@jupyter-widgets/base",
            "top": null,
            "grid_column": null,
            "overflow_y": null,
            "overflow_x": null,
            "grid_auto_flow": null,
            "grid_area": null,
            "grid_template_columns": null,
            "flex": null,
            "_model_name": "LayoutModel",
            "justify_items": null,
            "grid_row": null,
            "max_height": null,
            "align_content": null,
            "visibility": null,
            "align_self": null,
            "height": null,
            "min_height": null,
            "padding": null,
            "grid_auto_rows": null,
            "grid_gap": null,
            "max_width": null,
            "order": null,
            "_view_module_version": "1.2.0",
            "grid_template_areas": null,
            "object_position": null,
            "object_fit": null,
            "grid_auto_columns": null,
            "margin": null,
            "display": null,
            "left": null
          }
        },
        "5cae710372394f9c96fa806281ecb7db": {
          "model_module": "@jupyter-widgets/controls",
          "model_name": "FloatProgressModel",
          "state": {
            "_view_name": "ProgressView",
            "style": "IPY_MODEL_6916bfbfeead4e51b56e99220953178f",
            "_dom_classes": [],
            "description": "100%",
            "_model_name": "FloatProgressModel",
            "bar_style": "success",
            "max": 320,
            "_view_module": "@jupyter-widgets/controls",
            "_model_module_version": "1.5.0",
            "value": 320,
            "_view_count": null,
            "_view_module_version": "1.5.0",
            "orientation": "horizontal",
            "min": 0,
            "description_tooltip": null,
            "_model_module": "@jupyter-widgets/controls",
            "layout": "IPY_MODEL_a18fe10fce2a48e1938995e18de1e6d0"
          }
        },
        "19fd38c10598412a9aa75948dd5f1bfc": {
          "model_module": "@jupyter-widgets/controls",
          "model_name": "HTMLModel",
          "state": {
            "_view_name": "HTMLView",
            "style": "IPY_MODEL_692406b550134b46ac11ddb5db950ee1",
            "_dom_classes": [],
            "description": "",
            "_model_name": "HTMLModel",
            "placeholder": "​",
            "_view_module": "@jupyter-widgets/controls",
            "_model_module_version": "1.5.0",
            "value": " 320/320 [12:17&lt;00:00,  2.31s/it]",
            "_view_count": null,
            "_view_module_version": "1.5.0",
            "description_tooltip": null,
            "_model_module": "@jupyter-widgets/controls",
            "layout": "IPY_MODEL_26c6dcda31604af1abde1b205bb4b80b"
          }
        },
        "6916bfbfeead4e51b56e99220953178f": {
          "model_module": "@jupyter-widgets/controls",
          "model_name": "ProgressStyleModel",
          "state": {
            "_view_name": "StyleView",
            "_model_name": "ProgressStyleModel",
            "description_width": "initial",
            "_view_module": "@jupyter-widgets/base",
            "_model_module_version": "1.5.0",
            "_view_count": null,
            "_view_module_version": "1.2.0",
            "bar_color": null,
            "_model_module": "@jupyter-widgets/controls"
          }
        },
        "a18fe10fce2a48e1938995e18de1e6d0": {
          "model_module": "@jupyter-widgets/base",
          "model_name": "LayoutModel",
          "state": {
            "_view_name": "LayoutView",
            "grid_template_rows": null,
            "right": null,
            "justify_content": null,
            "_view_module": "@jupyter-widgets/base",
            "overflow": null,
            "_model_module_version": "1.2.0",
            "_view_count": null,
            "flex_flow": null,
            "width": null,
            "min_width": null,
            "border": null,
            "align_items": null,
            "bottom": null,
            "_model_module": "@jupyter-widgets/base",
            "top": null,
            "grid_column": null,
            "overflow_y": null,
            "overflow_x": null,
            "grid_auto_flow": null,
            "grid_area": null,
            "grid_template_columns": null,
            "flex": null,
            "_model_name": "LayoutModel",
            "justify_items": null,
            "grid_row": null,
            "max_height": null,
            "align_content": null,
            "visibility": null,
            "align_self": null,
            "height": null,
            "min_height": null,
            "padding": null,
            "grid_auto_rows": null,
            "grid_gap": null,
            "max_width": null,
            "order": null,
            "_view_module_version": "1.2.0",
            "grid_template_areas": null,
            "object_position": null,
            "object_fit": null,
            "grid_auto_columns": null,
            "margin": null,
            "display": null,
            "left": null
          }
        },
        "692406b550134b46ac11ddb5db950ee1": {
          "model_module": "@jupyter-widgets/controls",
          "model_name": "DescriptionStyleModel",
          "state": {
            "_view_name": "StyleView",
            "_model_name": "DescriptionStyleModel",
            "description_width": "",
            "_view_module": "@jupyter-widgets/base",
            "_model_module_version": "1.5.0",
            "_view_count": null,
            "_view_module_version": "1.2.0",
            "_model_module": "@jupyter-widgets/controls"
          }
        },
        "26c6dcda31604af1abde1b205bb4b80b": {
          "model_module": "@jupyter-widgets/base",
          "model_name": "LayoutModel",
          "state": {
            "_view_name": "LayoutView",
            "grid_template_rows": null,
            "right": null,
            "justify_content": null,
            "_view_module": "@jupyter-widgets/base",
            "overflow": null,
            "_model_module_version": "1.2.0",
            "_view_count": null,
            "flex_flow": null,
            "width": null,
            "min_width": null,
            "border": null,
            "align_items": null,
            "bottom": null,
            "_model_module": "@jupyter-widgets/base",
            "top": null,
            "grid_column": null,
            "overflow_y": null,
            "overflow_x": null,
            "grid_auto_flow": null,
            "grid_area": null,
            "grid_template_columns": null,
            "flex": null,
            "_model_name": "LayoutModel",
            "justify_items": null,
            "grid_row": null,
            "max_height": null,
            "align_content": null,
            "visibility": null,
            "align_self": null,
            "height": null,
            "min_height": null,
            "padding": null,
            "grid_auto_rows": null,
            "grid_gap": null,
            "max_width": null,
            "order": null,
            "_view_module_version": "1.2.0",
            "grid_template_areas": null,
            "object_position": null,
            "object_fit": null,
            "grid_auto_columns": null,
            "margin": null,
            "display": null,
            "left": null
          }
        }
      }
    }
  },
  "cells": [
    {
      "cell_type": "code",
      "metadata": {
        "colab": {
          "base_uri": "https://localhost:8080/"
        },
        "id": "FjaXCtcxRDwu",
        "outputId": "fb16b533-a8be-480a-c92e-5d8b8b4c02d0"
      },
      "source": [
        "from google.colab import drive\n",
        "drive.mount('/content/drive')"
      ],
      "execution_count": null,
      "outputs": [
        {
          "output_type": "stream",
          "text": [
            "Mounted at /content/drive\n"
          ],
          "name": "stdout"
        }
      ]
    },
    {
      "cell_type": "code",
      "metadata": {
        "colab": {
          "base_uri": "https://localhost:8080/"
        },
        "id": "d3DpdVIjlAGt",
        "outputId": "838ed2c3-4b9e-4264-a60e-9382c38bdb89"
      },
      "source": [
        "!pip install biopython"
      ],
      "execution_count": null,
      "outputs": [
        {
          "output_type": "stream",
          "text": [
            "Collecting biopython\n",
            "\u001b[?25l  Downloading https://files.pythonhosted.org/packages/3a/cd/0098eaff841850c01da928c7f509b72fd3e1f51d77b772e24de9e2312471/biopython-1.78-cp37-cp37m-manylinux1_x86_64.whl (2.3MB)\n",
            "\u001b[K     |████████████████████████████████| 2.3MB 29.6MB/s \n",
            "\u001b[?25hRequirement already satisfied: numpy in /usr/local/lib/python3.7/dist-packages (from biopython) (1.19.5)\n",
            "Installing collected packages: biopython\n",
            "Successfully installed biopython-1.78\n"
          ],
          "name": "stdout"
        }
      ]
    },
    {
      "cell_type": "code",
      "metadata": {
        "id": "YNM-xvRClCeV"
      },
      "source": [
        "names = ['chr' + str(i + 1) for i in range(22)]\n",
        "names.append('chrX')\n",
        "names.append('chrY')"
      ],
      "execution_count": null,
      "outputs": []
    },
    {
      "cell_type": "code",
      "metadata": {
        "colab": {
          "base_uri": "https://localhost:8080/"
        },
        "id": "k75LyHSDlWSl",
        "outputId": "cf4f20bd-819e-4641-80b2-ff21cfa5eb2d"
      },
      "source": [
        "!git clone --recurse-submodules https://github.com/Nazar1997/DeepZ_data_creation"
      ],
      "execution_count": null,
      "outputs": [
        {
          "output_type": "stream",
          "text": [
            "Cloning into 'DeepZ_data_creation'...\n",
            "remote: Enumerating objects: 1363, done.\u001b[K\n",
            "remote: Counting objects: 100% (3/3), done.\u001b[K\n",
            "remote: Compressing objects: 100% (3/3), done.\u001b[K\n",
            "remote: Total 1363 (delta 0), reused 0 (delta 0), pack-reused 1360\u001b[K\n",
            "Receiving objects: 100% (1363/1363), 1.34 GiB | 19.14 MiB/s, done.\n",
            "Resolving deltas: 100% (34/34), done.\n",
            "Checking out files: 100% (1140/1140), done.\n",
            "Submodule 'notebooks/sparse_vector' (https://github.com/Nazar1997/Sparse_vector) registered for path 'notebooks/sparse_vector'\n",
            "Cloning into '/content/DeepZ_data_creation/notebooks/sparse_vector'...\n",
            "remote: Enumerating objects: 81, done.        \n",
            "remote: Counting objects: 100% (81/81), done.        \n",
            "remote: Compressing objects: 100% (60/60), done.        \n",
            "remote: Total 81 (delta 37), reused 62 (delta 18), pack-reused 0        \n",
            "Submodule path 'notebooks/sparse_vector': checked out '8a8b6292ebae6a111845b35c9d890f2fecd301af'\n"
          ],
          "name": "stdout"
        }
      ]
    },
    {
      "cell_type": "code",
      "metadata": {
        "id": "bzLxOUO2LdFn"
      },
      "source": [
        "from DeepZ_data_creation.notebooks.sparse_vector.sparse_vector import SparseVector\n",
        "import DeepZ_data_creation.notebooks.sparse_vector"
      ],
      "execution_count": null,
      "outputs": []
    },
    {
      "cell_type": "code",
      "metadata": {
        "id": "o1ISkXdgldJ4"
      },
      "source": [
        "from tqdm.notebook import tqdm\n",
        "from collections import defaultdict\n",
        "import numpy as np\n",
        "import os\n",
        "from joblib import load, dump, Parallel, delayed\n",
        "import pandas as pd\n"
      ],
      "execution_count": null,
      "outputs": []
    },
    {
      "cell_type": "code",
      "metadata": {
        "colab": {
          "base_uri": "https://localhost:8080/"
        },
        "id": "NXigOiUMmlcq",
        "outputId": "688e0385-7882-484e-fdec-6968cf40706c"
      },
      "source": [
        "feature_list = sorted(os.listdir('../content/drive/MyDrive/bioinf/sparse_05'))\n",
        "feature_list[:20]"
      ],
      "execution_count": null,
      "outputs": [
        {
          "output_type": "execute_result",
          "data": {
            "text/plain": [
              "['DNS.ALL.20.DNase-Seq.AllCell.pkl',\n",
              " 'His.ALL.05.CENPA.AllCell.pkl',\n",
              " 'His.ALL.05.H1B.AllCell.pkl',\n",
              " 'His.ALL.05.H1K85ac.AllCell.pkl',\n",
              " 'His.ALL.05.H1PERIOD0.AllCell.pkl',\n",
              " 'His.ALL.05.H1PERIOD2.AllCell.pkl',\n",
              " 'His.ALL.05.H1PERIOD4.AllCell.pkl',\n",
              " 'His.ALL.05.H1PERIOD4K34ac.AllCell.pkl',\n",
              " 'His.ALL.05.H1PERIOD5.AllCell.pkl',\n",
              " 'His.ALL.05.H1PERIODX.AllCell.pkl',\n",
              " 'His.ALL.05.H1t.AllCell.pkl',\n",
              " 'His.ALL.05.H2.AllCell.pkl',\n",
              " 'His.ALL.05.H2AK119Ub.AllCell.pkl',\n",
              " 'His.ALL.05.H2AK120Ub.AllCell.pkl',\n",
              " 'His.ALL.05.H2AK5ac.AllCell.pkl',\n",
              " 'His.ALL.05.H2AK9ac.AllCell.pkl',\n",
              " 'His.ALL.05.H2APERIODX.AllCell.pkl',\n",
              " 'His.ALL.05.H2APERIODXS139ph.AllCell.pkl',\n",
              " 'His.ALL.05.H2APERIODZ.AllCell.pkl',\n",
              " 'His.ALL.05.H2APERIODZK4K7K11ac.AllCell.pkl']"
            ]
          },
          "metadata": {
            "tags": []
          },
          "execution_count": 4
        }
      ]
    },
    {
      "cell_type": "code",
      "metadata": {
        "id": "jk_zYLUd2Iyi"
      },
      "source": [
        "feature_names = []\n",
        "\n",
        "for feature in feature_list:\n",
        "    feature_name = feature.split('.')[0] + '_' + feature.split('.')[3]\n",
        "    feature_names.append(feature_name)"
      ],
      "execution_count": null,
      "outputs": []
    },
    {
      "cell_type": "code",
      "metadata": {
        "colab": {
          "base_uri": "https://localhost:8080/",
          "height": 66,
          "referenced_widgets": [
            "22b88fbeb3f94ab1b3af09df6899e3ef"
          ]
        },
        "id": "EtF8BuW3q3FG",
        "outputId": "0c2c0965-5be6-4436-e8aa-d10e94f3d896"
      },
      "source": [
        "features = {}\n",
        "\n",
        "for i, feature in enumerate(tqdm(feature_list)):\n",
        "    features[feature_names[i]] = load(\"/content/drive/MyDrive/bioinf/sparse_05/\" + feature)"
      ],
      "execution_count": null,
      "outputs": [
        {
          "output_type": "display_data",
          "data": {
            "application/vnd.jupyter.widget-view+json": {
              "model_id": "22b88fbeb3f94ab1b3af09df6899e3ef",
              "version_major": 2,
              "version_minor": 0
            },
            "text/plain": [
              "HBox(children=(FloatProgress(value=0.0, max=1146.0), HTML(value='')))"
            ]
          },
          "metadata": {
            "tags": []
          }
        },
        {
          "output_type": "stream",
          "text": [
            "\n"
          ],
          "name": "stdout"
        }
      ]
    },
    {
      "cell_type": "code",
      "metadata": {
        "colab": {
          "base_uri": "https://localhost:8080/"
        },
        "id": "uoBGep06sCYU",
        "outputId": "f9334331-c1ac-4366-d029-c1dc2247c5c5"
      },
      "source": [
        "print(feature_names[:5])"
      ],
      "execution_count": null,
      "outputs": [
        {
          "output_type": "stream",
          "text": [
            "['DNS_DNase-Seq', 'His_CENPA', 'His_H1B', 'His_H1K85ac', 'His_H1PERIOD0']\n"
          ],
          "name": "stdout"
        }
      ]
    },
    {
      "cell_type": "code",
      "metadata": {
        "id": "WSj9fTFCrtF0"
      },
      "source": [
        "positive_samples_file = '/content/drive/MyDrive/bioinf/GSM3417036_TriplexDNASeq_plus_RNA_ligation.bed'"
      ],
      "execution_count": null,
      "outputs": []
    },
    {
      "cell_type": "code",
      "metadata": {
        "colab": {
          "base_uri": "https://localhost:8080/"
        },
        "id": "16tyBpGc0Xd3",
        "outputId": "38009e5b-53b5-4b97-d0fd-80416b77d177"
      },
      "source": [
        "!apt-get install bedtools\n",
        "!pip install pybedtools"
      ],
      "execution_count": null,
      "outputs": [
        {
          "output_type": "stream",
          "text": [
            "Reading package lists... Done\n",
            "Building dependency tree       \n",
            "Reading state information... Done\n",
            "The following package was automatically installed and is no longer required:\n",
            "  libnvidia-common-460\n",
            "Use 'apt autoremove' to remove it.\n",
            "The following NEW packages will be installed:\n",
            "  bedtools\n",
            "0 upgraded, 1 newly installed, 0 to remove and 34 not upgraded.\n",
            "Need to get 577 kB of archives.\n",
            "After this operation, 2,040 kB of additional disk space will be used.\n",
            "Get:1 http://archive.ubuntu.com/ubuntu bionic/universe amd64 bedtools amd64 2.26.0+dfsg-5 [577 kB]\n",
            "Fetched 577 kB in 1s (521 kB/s)\n",
            "Selecting previously unselected package bedtools.\n",
            "(Reading database ... 160706 files and directories currently installed.)\n",
            "Preparing to unpack .../bedtools_2.26.0+dfsg-5_amd64.deb ...\n",
            "Unpacking bedtools (2.26.0+dfsg-5) ...\n",
            "Setting up bedtools (2.26.0+dfsg-5) ...\n",
            "Collecting pybedtools\n",
            "\u001b[?25l  Downloading https://files.pythonhosted.org/packages/5b/57/46e9c8135954550d1d3a05db5b0462a264239f7f71c78af304bb47c5c900/pybedtools-0.8.2.tar.gz (12.5MB)\n",
            "\u001b[K     |████████████████████████████████| 12.5MB 264kB/s \n",
            "\u001b[?25hRequirement already satisfied: six in /usr/local/lib/python3.7/dist-packages (from pybedtools) (1.15.0)\n",
            "Collecting pysam\n",
            "\u001b[?25l  Downloading https://files.pythonhosted.org/packages/20/85/335857b9888f6d9a13b03a8f21b0a6228b180c361631d9d70e7be3e22163/pysam-0.16.0.1-cp37-cp37m-manylinux1_x86_64.whl (9.9MB)\n",
            "\u001b[K     |████████████████████████████████| 9.9MB 29.1MB/s \n",
            "\u001b[?25hBuilding wheels for collected packages: pybedtools\n",
            "  Building wheel for pybedtools (setup.py) ... \u001b[?25l\u001b[?25hdone\n",
            "  Created wheel for pybedtools: filename=pybedtools-0.8.2-cp37-cp37m-linux_x86_64.whl size=13616924 sha256=7ce4df1a6704941a3403536648497e0625d68591811b37af05ac04340a652c6d\n",
            "  Stored in directory: /root/.cache/pip/wheels/ab/ae/8d/efdbbacea1f52e55602720575328b97fed787bd12723d25d5b\n",
            "Successfully built pybedtools\n",
            "Installing collected packages: pysam, pybedtools\n",
            "Successfully installed pybedtools-0.8.2 pysam-0.16.0.1\n"
          ],
          "name": "stdout"
        }
      ]
    },
    {
      "cell_type": "code",
      "metadata": {
        "id": "k7e45BjP0aMW"
      },
      "source": [
        "from pybedtools import BedTool"
      ],
      "execution_count": null,
      "outputs": []
    },
    {
      "cell_type": "code",
      "metadata": {
        "id": "KwygypYZ0dAk"
      },
      "source": [
        "positive_samples = BedTool(positive_samples_file)"
      ],
      "execution_count": null,
      "outputs": []
    },
    {
      "cell_type": "code",
      "metadata": {
        "colab": {
          "base_uri": "https://localhost:8080/",
          "height": 66,
          "referenced_widgets": [
            "26810282e7794ce39d65af1b87be5a27"
          ]
        },
        "id": "Arr63urn0pPR",
        "outputId": "759ebf07-d495-488c-cfe1-20a103255f68"
      },
      "source": [
        "from Bio import SeqIO\n",
        "\n",
        "chroms = {}\n",
        "\n",
        "for name in tqdm(names):\n",
        "    chroms[name] = SeqIO.read('/content/drive/MyDrive/bioinf/hg38/' + name + '.fa', 'fasta')"
      ],
      "execution_count": null,
      "outputs": [
        {
          "output_type": "display_data",
          "data": {
            "application/vnd.jupyter.widget-view+json": {
              "model_id": "26810282e7794ce39d65af1b87be5a27",
              "version_major": 2,
              "version_minor": 0
            },
            "text/plain": [
              "HBox(children=(FloatProgress(value=0.0, max=24.0), HTML(value='')))"
            ]
          },
          "metadata": {
            "tags": []
          }
        },
        {
          "output_type": "stream",
          "text": [
            "\n"
          ],
          "name": "stdout"
        }
      ]
    },
    {
      "cell_type": "code",
      "metadata": {
        "id": "MelTyCbTM8pZ"
      },
      "source": [
        "def count_features(start, end, chrom):\n",
        "    res = []\n",
        "    for feature_name in feature_list:\n",
        "        cur = [0, 0, 0]\n",
        "        if chrom in features[feature_name].keys():\n",
        "            if np.any(features[feature_name][chrom][start:end]):\n",
        "                cur = [1, np.count_nonzero(features[feature_name][chrom][start:end]),\n",
        "                       np.sum(features[feature_name][chrom][start:end]) / 1000]\n",
        "        res.append(np.array(cur))\n",
        "    return np.array(res)\n"
      ],
      "execution_count": null,
      "outputs": []
    },
    {
      "cell_type": "code",
      "metadata": {
        "colab": {
          "base_uri": "https://localhost:8080/"
        },
        "id": "8rr4bHmEO5Ia",
        "outputId": "63597926-c042-4b96-e56d-e88a4c86d77c"
      },
      "source": [
        "sum_len = 0\n",
        "\n",
        "for record in positive_samples:\n",
        "    sum_len += record.end - record.start\n",
        "print(sum_len)\n",
        "print(sum_len / len(positive_samples))"
      ],
      "execution_count": null,
      "outputs": [
        {
          "output_type": "stream",
          "text": [
            "1767700\n",
            "694.0321947389085\n"
          ],
          "name": "stdout"
        }
      ]
    },
    {
      "cell_type": "code",
      "metadata": {
        "colab": {
          "base_uri": "https://localhost:8080/",
          "height": 100,
          "referenced_widgets": [
            "31deafadee90462c80f6212cde1c71a5"
          ]
        },
        "id": "EwDgcBdYP4hw",
        "outputId": "bf6114f6-e409-4bf3-9191-85dd45a3612b"
      },
      "source": [
        "summary = np.zeros((len(feature_names), 3))\n",
        "used_positions = {}\n",
        "\n",
        "for name in names:\n",
        "    used_positions[name] = set()\n",
        "\n",
        "for record in tqdm(positive_samples):\n",
        "    #print(count_features(record.start, record.end, record.chrom))\n",
        "    summary += count_features(record.start, record.end, record.chrom)\n",
        "    used_positions[record.chrom].update(set(range(record.start, record.end)))\n",
        "\n",
        "print(summary[:2])"
      ],
      "execution_count": null,
      "outputs": [
        {
          "output_type": "display_data",
          "data": {
            "application/vnd.jupyter.widget-view+json": {
              "model_id": "31deafadee90462c80f6212cde1c71a5",
              "version_major": 2,
              "version_minor": 0
            },
            "text/plain": [
              "HBox(children=(FloatProgress(value=0.0, max=2547.0), HTML(value='')))"
            ]
          },
          "metadata": {
            "tags": []
          }
        },
        {
          "output_type": "stream",
          "text": [
            "\n",
            "[[8.03000000e+02 2.12314000e+05 1.49235688e+05]\n",
            " [1.17000000e+02 4.66260000e+04 2.04164150e+04]]\n"
          ],
          "name": "stdout"
        }
      ]
    },
    {
      "cell_type": "code",
      "metadata": {
        "colab": {
          "base_uri": "https://localhost:8080/",
          "height": 100,
          "referenced_widgets": [
            "e6d6f0d50463475ba53cff482d437630"
          ]
        },
        "id": "Db5hOeBFQ2M1",
        "outputId": "5d86e4b3-f7fc-41d0-b0ac-f0db57b0d993"
      },
      "source": [
        "from random import choice, randrange\n",
        "\n",
        "rand_summary = np.zeros((len(feature_names), 3))\n",
        "rand_counter = 0\n",
        "\n",
        "for i in tqdm(range(len(positive_samples) * 10)):\n",
        "    chrom = choice(names)\n",
        "    start = randrange(len(chroms[chrom]) - 694)\n",
        "    end = start + 694\n",
        "    while not used_positions[chrom].isdisjoint(set(range(start, end))) or chroms[chrom][start:end].seq.count('N') / 694 >= 0.01:\n",
        "        chrom = choice(names)\n",
        "        start = randrange(len(chroms[chrom]) - 694)\n",
        "        end = start + 694\n",
        "    used_positions[chrom].update(set(range(start, end)))\n",
        "    rand_summary += count_features(start, end, chrom)\n",
        "\n",
        "rand_summary /= 10\n",
        "print(rand_summary[:2])"
      ],
      "execution_count": null,
      "outputs": [
        {
          "output_type": "display_data",
          "data": {
            "application/vnd.jupyter.widget-view+json": {
              "model_id": "e6d6f0d50463475ba53cff482d437630",
              "version_major": 2,
              "version_minor": 0
            },
            "text/plain": [
              "HBox(children=(FloatProgress(value=0.0, max=25470.0), HTML(value='')))"
            ]
          },
          "metadata": {
            "tags": []
          }
        },
        {
          "output_type": "stream",
          "text": [
            "\n",
            "[[6.69500000e+02 1.33398900e+05 8.11045944e+04]\n",
            " [2.52000000e+01 5.59090000e+03 1.40353280e+03]]\n"
          ],
          "name": "stdout"
        }
      ]
    },
    {
      "cell_type": "code",
      "metadata": {
        "id": "46P1Ig6tQk3B"
      },
      "source": [
        "diffs = np.abs(summary - rand_summary)"
      ],
      "execution_count": null,
      "outputs": []
    },
    {
      "cell_type": "code",
      "metadata": {
        "colab": {
          "base_uri": "https://localhost:8080/",
          "height": 367
        },
        "id": "WeIYvuNET7gj",
        "outputId": "38c6edfe-f3f7-47ac-e7cb-af77fa8d10c8"
      },
      "source": [
        "import matplotlib.pyplot as plt\n",
        "\n",
        "plt.hist(diffs[:, 0], bins=20)"
      ],
      "execution_count": null,
      "outputs": [
        {
          "output_type": "execute_result",
          "data": {
            "text/plain": [
              "(array([ 41., 212., 185., 230., 112., 115.,  83.,  73.,  40.,  26.,   7.,\n",
              "          4.,   3.,   2.,   3.,   3.,   2.,   1.,   2.,   2.]),\n",
              " array([  1.   ,  24.115,  47.23 ,  70.345,  93.46 , 116.575, 139.69 ,\n",
              "        162.805, 185.92 , 209.035, 232.15 , 255.265, 278.38 , 301.495,\n",
              "        324.61 , 347.725, 370.84 , 393.955, 417.07 , 440.185, 463.3  ]),\n",
              " <a list of 20 Patch objects>)"
            ]
          },
          "metadata": {
            "tags": []
          },
          "execution_count": 27
        },
        {
          "output_type": "display_data",
          "data": {
            "image/png": "[encoded data removed]",
            "text/plain": [
              "<Figure size 432x288 with 1 Axes>"
            ]
          },
          "metadata": {
            "tags": []
          }
        }
      ]
    },
    {
      "cell_type": "code",
      "metadata": {
        "colab": {
          "base_uri": "https://localhost:8080/",
          "height": 384
        },
        "id": "B4zLVFQiUGpN",
        "outputId": "799a235d-6bed-4f3c-a628-514fe3b0667c"
      },
      "source": [
        "plt.hist(diffs[:, 1], bins=20)"
      ],
      "execution_count": null,
      "outputs": [
        {
          "output_type": "execute_result",
          "data": {
            "text/plain": [
              "(array([231., 305., 218., 129.,  93.,  65.,  48.,  22.,  15.,   2.,   3.,\n",
              "          3.,   5.,   1.,   1.,   2.,   0.,   1.,   1.,   1.]),\n",
              " array([   496.  ,  13789.55,  27083.1 ,  40376.65,  53670.2 ,  66963.75,\n",
              "         80257.3 ,  93550.85, 106844.4 , 120137.95, 133431.5 , 146725.05,\n",
              "        160018.6 , 173312.15, 186605.7 , 199899.25, 213192.8 , 226486.35,\n",
              "        239779.9 , 253073.45, 266367.  ]),\n",
              " <a list of 20 Patch objects>)"
            ]
          },
          "metadata": {
            "tags": []
          },
          "execution_count": 28
        },
        {
          "output_type": "display_data",
          "data": {
            "image/png": "[encoded data removed]",
            "text/plain": [
              "<Figure size 432x288 with 1 Axes>"
            ]
          },
          "metadata": {
            "tags": []
          }
        }
      ]
    },
    {
      "cell_type": "code",
      "metadata": {
        "colab": {
          "base_uri": "https://localhost:8080/",
          "height": 418
        },
        "id": "e416jDQVULPz",
        "outputId": "118e2649-467e-4758-9127-6c263927046b"
      },
      "source": [
        "plt.hist(diffs[:, 2], bins=20)"
      ],
      "execution_count": null,
      "outputs": [
        {
          "output_type": "execute_result",
          "data": {
            "text/plain": [
              "(array([425., 305., 160.,  97.,  62.,  35.,  22.,  13.,  12.,   1.,   2.,\n",
              "          2.,   2.,   3.,   0.,   1.,   1.,   1.,   1.,   1.]),\n",
              " array([1.12019900e+02, 8.54526944e+03, 1.69785190e+04, 2.54117685e+04,\n",
              "        3.38450180e+04, 4.22782676e+04, 5.07115171e+04, 5.91447666e+04,\n",
              "        6.75780162e+04, 7.60112657e+04, 8.44445153e+04, 9.28777648e+04,\n",
              "        1.01311014e+05, 1.09744264e+05, 1.18177513e+05, 1.26610763e+05,\n",
              "        1.35044012e+05, 1.43477262e+05, 1.51910512e+05, 1.60343761e+05,\n",
              "        1.68777011e+05]),\n",
              " <a list of 20 Patch objects>)"
            ]
          },
          "metadata": {
            "tags": []
          },
          "execution_count": 29
        },
        {
          "output_type": "display_data",
          "data": {
            "image/png": "[encoded data removed]",
            "text/plain": [
              "<Figure size 432x288 with 1 Axes>"
            ]
          },
          "metadata": {
            "tags": []
          }
        }
      ]
    },
    {
      "cell_type": "code",
      "metadata": {
        "id": "Bdexu3QXhAM7"
      },
      "source": [
        "sub_feature_names = []\n",
        "t_0 = np.percentile(diffs[:,0], 66)\n",
        "t_1 = np.percentile(diffs[:,1], 66)\n",
        "t_2 = np.percentile(diffs[:,2], 66)\n",
        "\n",
        "\n",
        "for i in range(len(diffs)):\n",
        "    if diffs[i][0] >= t_0 and diffs[i][1] >= t_1 and diffs[i][2] >= t_2:\n",
        "        sub_feature_names.append(feature_names[i])"
      ],
      "execution_count": null,
      "outputs": []
    },
    {
      "cell_type": "code",
      "metadata": {
        "colab": {
          "base_uri": "https://localhost:8080/"
        },
        "id": "NP0SLUD_hnOA",
        "outputId": "a949b5f3-2925-48c8-947d-b17420672695"
      },
      "source": [
        "print(len(sub_feature_names))\n",
        "print(sub_feature_names[:10])"
      ],
      "execution_count": null,
      "outputs": [
        {
          "output_type": "stream",
          "text": [
            "320\n",
            "['DNS_DNase-Seq', 'His_H2AK119Ub', 'His_H2APERIODXS139ph', 'His_H2APERIODZ', 'His_H2APERIODZK4K7K11ac', 'His_H2APERIODZac', 'His_H2BK120ac', 'His_H2BK5ac', 'His_H3', 'His_H3K122ac']\n"
          ],
          "name": "stdout"
        }
      ]
    },
    {
      "cell_type": "code",
      "metadata": {
        "colab": {
          "base_uri": "https://localhost:8080/"
        },
        "id": "P4tz23CLk3Ur",
        "outputId": "fa440218-d2bc-4229-fe29-c99e057fc0a9"
      },
      "source": [
        "dump(sub_feature_names, '/content/drive/MyDrive/bioinf/sub_names.pkl', 3)\n",
        "dump(diffs, '/content/drive/MyDrive/bioinf/diffs.pkl', 3)"
      ],
      "execution_count": null,
      "outputs": [
        {
          "output_type": "execute_result",
          "data": {
            "text/plain": [
              "['/content/drive/MyDrive/bioinf/diffs.pkl']"
            ]
          },
          "metadata": {
            "tags": []
          },
          "execution_count": 31
        }
      ]
    },
    {
      "cell_type": "code",
      "metadata": {
        "id": "E590BydglHTo"
      },
      "source": [
        "sub_feature_names = load('/content/drive/MyDrive/bioinf/sub_names.pkl')\n",
        "diffs = load('/content/drive/MyDrive/bioinf/diffs.pkl')"
      ],
      "execution_count": null,
      "outputs": []
    },
    {
      "cell_type": "code",
      "metadata": {
        "id": "BZvQpnIT1u35"
      },
      "source": [
        "input_len = 800"
      ],
      "execution_count": null,
      "outputs": []
    },
    {
      "cell_type": "code",
      "metadata": {
        "id": "qXq5jcXp76pz"
      },
      "source": [
        "import scipy\n",
        "from scipy.sparse import csr_matrix"
      ],
      "execution_count": null,
      "outputs": []
    },
    {
      "cell_type": "code",
      "metadata": {
        "id": "foTeWbWv6Rb5"
      },
      "source": [
        "def seq_to_features(seq, start, end, strand, chrom):\n",
        "    cur = np.zeros((len(seq), 4 + len(sub_feature_names)))\n",
        "    for i, nuc in enumerate(seq):\n",
        "        if nuc.lower() == 'a':\n",
        "            cur[i][0] = 1\n",
        "        elif nuc.lower() == 't':\n",
        "            cur[i][1] = 1\n",
        "        elif nuc.lower() == 'g':\n",
        "            cur[i][2] = 1\n",
        "        elif nuc.lower() == 'c':\n",
        "            cur[i][3] = 1\n",
        "    for i, feature_name in enumerate(sub_feature_names):\n",
        "        if chrom in features[feature_name].keys():\n",
        "            if strand == '-':\n",
        "                cur[:,i+4] = features[feature_name][chrom][start:end][::-1] / 1000\n",
        "            else:\n",
        "                cur[:,i+4] = features[feature_name][chrom][start:end] / 1000\n",
        "    return csr_matrix(cur)"
      ],
      "execution_count": null,
      "outputs": []
    },
    {
      "cell_type": "code",
      "metadata": {
        "id": "r_XxGDUE06ii"
      },
      "source": [
        "import math\n",
        "\n",
        "def get_subseq(start, end, strand, chrom, subseq_len=input_len, share=10):\n",
        "    \n",
        "    if end - start > subseq_len:\n",
        "        output = []\n",
        "\n",
        "        n = math.ceil(((end - start) * share - subseq_len) / (subseq_len * (share - 1)))\n",
        "        begin = start - (((share - 1) * n + 1) * subseq_len // share - (end - start)) // 2\n",
        "        \n",
        "        while begin <= end:\n",
        "\n",
        "            nuc_seq = ''\n",
        "            if strand == '-':\n",
        "                nuc_seq = str(chroms[chrom][begin:begin+subseq_len].seq.reverse_complement())\n",
        "            else:\n",
        "                nuc_seq = str(chroms[chrom][begin:begin+subseq_len].seq)\n",
        "                \n",
        "            output.append(seq_to_features(nuc_seq, begin, begin + subseq_len, strand, chrom))\n",
        "                            \n",
        "            begin += subseq_len - subseq_len // share\n",
        "        \n",
        "        return output\n",
        "    \n",
        "    \n",
        "    left_add = (subseq_len - abs(end - start)) // 2\n",
        "    right_add = subseq_len - abs(end - start) - left_add\n",
        "    nuc_seq = ''\n",
        "\n",
        "    if strand == '-':\n",
        "        nuc_seq = str(chroms[chrom][start - left_add:end + right_add].seq.reverse_complement())\n",
        "    else:\n",
        "        nuc_seq = str(chroms[chrom][start - left_add:end + right_add].seq)\n",
        "        \n",
        "    return [seq_to_features(nuc_seq, start - left_add, end + right_add, strand, chrom)]\n",
        "        \n"
      ],
      "execution_count": null,
      "outputs": []
    },
    {
      "cell_type": "code",
      "metadata": {
        "colab": {
          "base_uri": "https://localhost:8080/"
        },
        "id": "2MItgiRf98q2",
        "outputId": "33f6b013-ee5a-4453-f85c-4a40656dfe98"
      },
      "source": [
        "example = positive_samples[0]\n",
        "get_subseq(example.start, example.end, example.strand, example.chrom)"
      ],
      "execution_count": null,
      "outputs": [
        {
          "output_type": "execute_result",
          "data": {
            "text/plain": [
              "[<800x240 sparse matrix of type '<class 'numpy.float64'>'\n",
              " \twith 130105 stored elements in Compressed Sparse Row format>]"
            ]
          },
          "metadata": {
            "tags": []
          },
          "execution_count": 25
        }
      ]
    },
    {
      "cell_type": "code",
      "metadata": {
        "colab": {
          "base_uri": "https://localhost:8080/",
          "height": 66,
          "referenced_widgets": [
            "991e8a8b31a44be087d5c4bf8d472f3a"
          ]
        },
        "id": "gVpJpEoGENJ3",
        "outputId": "122b788e-daf5-4de0-c075-7ce421916765"
      },
      "source": [
        "positive_data = []\n",
        "used_positions = {}\n",
        "\n",
        "for name in names:\n",
        "    used_positions[name] = set()\n",
        "\n",
        "for record in tqdm(positive_samples):\n",
        "    if chroms[record.chrom][record.start:record.end].seq.count('N') / input_len < 0.01:\n",
        "        positive_data.extend(get_subseq(record.start, record.end,\n",
        "                                        record.strand, record.chrom, subseq_len=input_len + input_len // 2))\n",
        "        used_positions[record.chrom].update(set(range(record.start, record.end)))\n"
      ],
      "execution_count": null,
      "outputs": [
        {
          "output_type": "display_data",
          "data": {
            "application/vnd.jupyter.widget-view+json": {
              "model_id": "991e8a8b31a44be087d5c4bf8d472f3a",
              "version_major": 2,
              "version_minor": 0
            },
            "text/plain": [
              "HBox(children=(FloatProgress(value=0.0, max=2547.0), HTML(value='')))"
            ]
          },
          "metadata": {
            "tags": []
          }
        },
        {
          "output_type": "stream",
          "text": [
            "\n"
          ],
          "name": "stdout"
        }
      ]
    },
    {
      "cell_type": "code",
      "metadata": {
        "colab": {
          "base_uri": "https://localhost:8080/",
          "height": 66,
          "referenced_widgets": [
            "a0fb2c143b7f498fa242dc5e5540ff61"
          ]
        },
        "id": "-HsaPIy1F5QP",
        "outputId": "efd9c57a-8bde-4c4f-c39c-fcfc95f2566e"
      },
      "source": [
        "from random import choice, randrange\n",
        " \n",
        "num_of_random_seqs = len(positive_data)\n",
        " \n",
        "random_seqs = []\n",
        " \n",
        "for i in tqdm(range(num_of_random_seqs)):\n",
        "    chrom = choice(names)\n",
        "    start = randrange(len(chroms[chrom]) - input_len)\n",
        "    end = start + input_len\n",
        "    strand = choice([0, 1])\n",
        "    while chroms[chrom][start:end].seq.count('N') / input_len >= 0.01 or not used_positions[chrom].isdisjoint(set(range(start, end))):\n",
        "        chrom = choice(names)\n",
        "        start = randrange(len(chroms[chrom]) - input_len)\n",
        "        end = start + input_len\n",
        "        strand = choice([0, 1])\n",
        "    used_positions[chrom].update(set(range(start, end)))\n",
        "    if strand == 1:\n",
        "        random_seqs.extend(get_subseq(start, end, '+', chrom, subseq_len=input_len + input_len // 2))\n",
        "    else:\n",
        "        random_seqs.extend(get_subseq(start, end, '-', chrom, subseq_len=input_len + input_len // 2))"
      ],
      "execution_count": null,
      "outputs": [
        {
          "output_type": "display_data",
          "data": {
            "application/vnd.jupyter.widget-view+json": {
              "model_id": "a0fb2c143b7f498fa242dc5e5540ff61",
              "version_major": 2,
              "version_minor": 0
            },
            "text/plain": [
              "HBox(children=(FloatProgress(value=0.0, max=2833.0), HTML(value='')))"
            ]
          },
          "metadata": {
            "tags": []
          }
        },
        {
          "output_type": "stream",
          "text": [
            "\n"
          ],
          "name": "stdout"
        }
      ]
    },
    {
      "cell_type": "code",
      "metadata": {
        "colab": {
          "base_uri": "https://localhost:8080/"
        },
        "id": "RpxueEY7N5Cm",
        "outputId": "043424a3-a4b5-4d99-efcf-bfdd3c3275fb"
      },
      "source": [
        "dump(positive_data, '/content/drive/MyDrive/bioinf/positive_05_sub.pkl', 3)\n",
        "dump(random_seqs, '/content/drive/MyDrive/bioinf/random_05_sub.pkl', 3)"
      ],
      "execution_count": null,
      "outputs": [
        {
          "output_type": "execute_result",
          "data": {
            "text/plain": [
              "['/content/drive/MyDrive/bioinf/random_05_sub.pkl']"
            ]
          },
          "metadata": {
            "tags": []
          },
          "execution_count": 34
        }
      ]
    },
    {
      "cell_type": "code",
      "metadata": {
        "id": "HwGlBAbIN9xn"
      },
      "source": [
        "positive_data = load('/content/drive/MyDrive/bioinf/positive_05_sub.pkl')\n",
        "random_seqs = load('/content/drive/MyDrive/bioinf/random_05_sub.pkl')"
      ],
      "execution_count": null,
      "outputs": []
    },
    {
      "cell_type": "code",
      "metadata": {
        "id": "olSeeaHrIalz"
      },
      "source": [
        "del chroms"
      ],
      "execution_count": null,
      "outputs": []
    },
    {
      "cell_type": "code",
      "metadata": {
        "id": "1iJIJCpVQvP5"
      },
      "source": [
        "y = [1 for seq in positive_data]\n",
        "y.extend([0 for seq in random_seqs])"
      ],
      "execution_count": null,
      "outputs": []
    },
    {
      "cell_type": "code",
      "metadata": {
        "id": "MTiYO8rJJVF2"
      },
      "source": [
        "X = positive_data\n",
        "X.extend(random_seqs)"
      ],
      "execution_count": null,
      "outputs": []
    },
    {
      "cell_type": "code",
      "metadata": {
        "id": "1RSuOv1CQ53t"
      },
      "source": [
        "X = np.array(X)"
      ],
      "execution_count": null,
      "outputs": []
    },
    {
      "cell_type": "code",
      "metadata": {
        "colab": {
          "base_uri": "https://localhost:8080/"
        },
        "id": "dzAi4UkNTJWv",
        "outputId": "ae8e8b8e-b459-43ed-c828-7d91ef8e2278"
      },
      "source": [
        "X.shape"
      ],
      "execution_count": null,
      "outputs": [
        {
          "output_type": "execute_result",
          "data": {
            "text/plain": [
              "(5666,)"
            ]
          },
          "metadata": {
            "tags": []
          },
          "execution_count": 16
        }
      ]
    },
    {
      "cell_type": "code",
      "metadata": {
        "colab": {
          "base_uri": "https://localhost:8080/"
        },
        "id": "dypbFmwUVU9C",
        "outputId": "13a564b8-ec4b-4079-a9c0-7eb250dcd4a0"
      },
      "source": [
        "y = np.array(y)\n",
        "y.shape"
      ],
      "execution_count": null,
      "outputs": [
        {
          "output_type": "execute_result",
          "data": {
            "text/plain": [
              "(5666,)"
            ]
          },
          "metadata": {
            "tags": []
          },
          "execution_count": 13
        }
      ]
    },
    {
      "cell_type": "code",
      "metadata": {
        "id": "wQexIvg4TNzh"
      },
      "source": [
        "from sklearn.model_selection import train_test_split\n",
        "\n",
        "X_train, X_test, y_train, y_test = train_test_split(X, y, train_size=0.8, random_state=77)"
      ],
      "execution_count": null,
      "outputs": []
    },
    {
      "cell_type": "code",
      "metadata": {
        "id": "PIBD9536WHiW"
      },
      "source": [
        "from tensorflow.keras.models import Sequential\n",
        "from tensorflow.keras.layers import Flatten, Dense, Activation, Dropout, LeakyReLU, Conv1D, GlobalMaxPool1D, MaxPooling1D, Input\n",
        "from tensorflow.keras.initializers import random_normal\n",
        "from tensorflow.keras.regularizers import L2\n",
        "import tensorflow as tf\n",
        " \n",
        "filters = 30\n",
        "kernel_size = 20\n",
        "sd = 0.1\n",
        "pool_size = 15\n",
        "strides = 5\n",
        "l2_weight = 0\n",
        "dropout = 0.15\n",
        "alpha = 0.3\n",
        "padding='same'\n",
        " \n",
        "def make_model_CNN():\n",
        "    model = Sequential()\n",
        "    #model.add(Input(shape=(input_len, 4 + len(feature_names)), sparse=True))\n",
        "    model.add(Conv1D(filters=filters, kernel_size=kernel_size, input_shape=(input_len, 4 + len(sub_feature_names)),\n",
        "                     kernel_initializer=random_normal(stddev=sd), kernel_regularizer=L2(l2_weight), padding=padding))\n",
        "    model.add(LeakyReLU(alpha=alpha))\n",
        "    model.add(MaxPooling1D(pool_size=pool_size, strides=strides, padding=padding))\n",
        "    model.add(Dropout(dropout))\n",
        "    model.add(Conv1D(filters=filters, kernel_size=kernel_size,\n",
        "                     kernel_initializer=random_normal(stddev=sd), kernel_regularizer=L2(l2_weight)))\n",
        "    model.add(LeakyReLU(alpha=alpha))\n",
        "    model.add(MaxPooling1D(pool_size=10, strides=2, padding=padding))\n",
        "    model.add(Dropout(dropout))\n",
        "    model.add(GlobalMaxPool1D())\n",
        "    model.add(Dropout(dropout))\n",
        "    model.add(Dense(10, kernel_initializer=random_normal(stddev=sd), kernel_regularizer=L2(l2_weight)))\n",
        "    model.add(Dropout(dropout))\n",
        "    model.add(Dense(1, kernel_initializer=random_normal(stddev=sd), kernel_regularizer=L2(l2_weight)))\n",
        "    model.add(Activation(\"sigmoid\"))\n",
        "    \n",
        "    return model"
      ],
      "execution_count": null,
      "outputs": []
    },
    {
      "cell_type": "code",
      "metadata": {
        "id": "PXqiNapMX3JF"
      },
      "source": [
        "model = make_model_CNN()"
      ],
      "execution_count": null,
      "outputs": []
    },
    {
      "cell_type": "code",
      "metadata": {
        "colab": {
          "base_uri": "https://localhost:8080/"
        },
        "id": "SeMjjubXRPGe",
        "outputId": "3ce101b7-8197-4c14-a74d-eb04f1a5db02"
      },
      "source": [
        "dna_indices = list(range(4))\n",
        "dns_indices = []\n",
        "his_indices = []\n",
        "oth_indices = []\n",
        "pol_indices = []\n",
        "\n",
        "for i, feature_name in enumerate(sub_feature_names):\n",
        "    if feature_name.startswith('DNS'):\n",
        "        dns_indices.append(i+4)\n",
        "    elif feature_name.startswith('His'):\n",
        "        his_indices.append(i+4)\n",
        "    elif feature_name.startswith('Oth'):\n",
        "        oth_indices.append(i+4)\n",
        "    elif feature_name.startswith('Pol'):\n",
        "        pol_indices.append(i+4)\n",
        "    else:\n",
        "        print(feature_name[:4])\n",
        "\n",
        "print(np.min(dna_indices))\n",
        "print(np.max(dna_indices))\n",
        "print(len(dns_indices))\n",
        "print(len(his_indices))\n",
        "print(len(pol_indices))\n",
        "print(len(oth_indices))"
      ],
      "execution_count": null,
      "outputs": [
        {
          "output_type": "stream",
          "text": [
            "0\n",
            "3\n",
            "1\n",
            "40\n",
            "6\n",
            "273\n"
          ],
          "name": "stdout"
        }
      ]
    },
    {
      "cell_type": "code",
      "metadata": {
        "id": "lTI_Gev7XZ9V"
      },
      "source": [
        "def reset_tf_session():\n",
        "    curr_session = tf.compat.v1.get_default_session()\n",
        "    if curr_session is not None:\n",
        "        curr_session.close()\n",
        "    tf.keras.backend.clear_session()\n",
        "    config = tf.compat.v1.ConfigProto()\n",
        "    config.gpu_options.allow_growth = True\n",
        "    s = tf.compat.v1.InteractiveSession(config=config)\n",
        "    tf.compat.v1.keras.backend.set_session(s)\n",
        "    return s"
      ],
      "execution_count": null,
      "outputs": []
    },
    {
      "cell_type": "code",
      "metadata": {
        "id": "Ry1vUWnPlw1_"
      },
      "source": [
        "from random import randrange\n",
        "import math\n",
        " \n",
        "def batch_generator(X, y, batch_size, train=False):\n",
        "    number_of_batches = X.shape[0] // batch_size\n",
        "    if number_of_batches != math.ceil(X.shape[0] / batch_size):\n",
        "        number_of_batches += 1\n",
        "    counter = 0\n",
        "    shuffle_index = np.arange(len(y))\n",
        "    if train: \n",
        "        np.random.shuffle(shuffle_index)\n",
        "    while 1:\n",
        "        index_batch = shuffle_index[batch_size * counter : min(batch_size * (counter + 1), len(shuffle_index))]\n",
        "        if train:\n",
        "            X_batch = []\n",
        "            for x in X[index_batch]:\n",
        "                shift = randrange(400)\n",
        "                X_batch.append(np.array(x.todense())[shift:shift+input_len])\n",
        "        else:\n",
        "            X_batch = [np.array(x.todense())[200:1000] for x in X[index_batch]]\n",
        "        y_batch = y[index_batch]\n",
        "        counter += 1\n",
        "        yield(np.array(X_batch), y_batch)\n",
        "        if (counter >= number_of_batches):\n",
        "            if train:\n",
        "                np.random.shuffle(shuffle_index)\n",
        "            counter = 0"
      ],
      "execution_count": null,
      "outputs": []
    },
    {
      "cell_type": "code",
      "metadata": {
        "id": "YTPP5C6_udA5"
      },
      "source": [
        "from tensorflow.keras.models import Sequential, Model\n",
        "from tensorflow.keras.layers import Flatten, Dense, Activation, Dropout, LeakyReLU, Conv1D, GlobalMaxPool1D, MaxPooling1D, Input\n",
        "from tensorflow.keras.layers import Lambda, Concatenate, Reshape, Cropping1D, ReLU\n",
        "from tensorflow.keras.initializers import random_normal\n",
        "from tensorflow.keras.regularizers import L2, L1\n",
        "import tensorflow as tf\n",
        " \n",
        " \n",
        " \n",
        "early_stopping = tf.keras.callbacks.EarlyStopping(monitor='val_loss', patience=5)\n",
        "s = reset_tf_session()\n",
        "INIT_LR = 5e-3\n",
        "BATCH_SIZE = 32\n",
        "EPOCHS = 30\n",
        " \n",
        "bst_loss = [0.5519489645957947, 0.7319223880767822, 0.7997028231620789]\n",
        "bst_acc = [0.5524182319641113, 0.7345678806304932, 0.796713650226593]\n",
        "bst_auc = [0.5538930296897888, 0.7213403582572937, 0.8112582564353943]\n",
        " \n",
        "#used = []\n",
        "#dump(used, '/content/drive/My Drive/bioinf/' + 'used.pkl', 3)\n",
        "used = load('/content/drive/My Drive/bioinf/' + 'used.pkl')\n",
        " \n",
        " \n",
        "for strides in [(4, 4), (4, 5), (5, 5)]:\n",
        "    for poolsizes in [(5, 20), (10, 30), (15, 40)]:\n",
        "        for filters in [(20, 3, 5, 10), (25, 5, 10, 15), (30, 7, 15, 20)]:\n",
        "            for filtersizes in [(10, 5), (15, 5), (20, 10)]:\n",
        "                for dropouts in [(0.1, 0.2, 0.3, 0.5), (0.2, 0.3, 0.5, 0.75), (0.3, 0.5, 0.75, 0.9)]:\n",
        "                    \n",
        "                    if [strides, poolsizes, filters, filtersizes, dropouts] not in used:\n",
        " \n",
        "                        early_stopping = tf.keras.callbacks.EarlyStopping(monitor='val_loss', patience=5)\n",
        "                        s = reset_tf_session()\n",
        " \n",
        "                        input = Input(shape=(input_len, 4 + len(sub_feature_names)))\n",
        " \n",
        "                        dna = Lambda(lambda x: x[:, :, np.min(dna_indices):np.min(dna_indices)+len(dna_indices)])(input)\n",
        "                        conv1 = Conv1D(filters=filters[0], kernel_size=filtersizes[0], kernel_initializer=random_normal(stddev=0.1), padding='same')(dna)\n",
        "                        relu1 = ReLU()(conv1)\n",
        "                        pool1 = MaxPooling1D(pool_size=poolsizes[0], strides=strides[0], padding='same')(relu1)\n",
        "                        dropout1 = Dropout(dropouts[0])(pool1)\n",
        "                        conv2 = Conv1D(filters=filters[0], kernel_size=filtersizes[0], kernel_initializer=random_normal(stddev=0.1), padding='same')(pool1)\n",
        "                        relu2 = ReLU()(conv2)\n",
        "                        pool2 = MaxPooling1D(pool_size=poolsizes[0], strides=strides[1], padding='same')(relu2)\n",
        "                        dropout2 = Dropout(dropouts[0])(pool2)\n",
        " \n",
        "                        dns = Lambda(lambda x: x[:, :, np.min(dns_indices):np.min(dns_indices)+len(dns_indices)])(input)\n",
        "                        conv_dns = Conv1D(filters=filters[1], kernel_size=filtersizes[0], kernel_initializer=random_normal(stddev=0.1), padding='same')(dns)\n",
        "                        relu_dns = ReLU()(conv_dns)\n",
        "                        pool_dns = MaxPooling1D(pool_size=30, strides=strides[0]*strides[1], padding='same')(relu_dns)\n",
        "                        dropout_dns = Dropout(dropouts[1])(pool_dns)\n",
        " \n",
        "                        pol = Lambda(lambda x: x[:, :, np.min(pol_indices):np.min(pol_indices)+len(pol_indices)])(input)\n",
        "                        conv_pol = Conv1D(filters=filters[2], kernel_size=filtersizes[0], kernel_initializer=random_normal(stddev=0.1), padding='same')(pol)\n",
        "                        relu_pol = ReLU()(conv_pol)\n",
        "                        pool_pol = MaxPooling1D(pool_size=poolsizes[1], strides=strides[0]*strides[1], padding='same')(relu_pol)\n",
        "                        dropout_pol = Dropout(dropouts[1])(pool_pol)\n",
        " \n",
        "                        his = Lambda(lambda x: x[:, :, np.min(his_indices):np.min(his_indices)+len(his_indices)])(input)\n",
        "                        conv_his = Conv1D(filters=filters[2], kernel_size=filtersizes[0], kernel_initializer=random_normal(stddev=0.1), padding='same')(his)\n",
        "                        relu_his = ReLU()(conv_his)\n",
        "                        pool_his = MaxPooling1D(pool_size=poolsizes[1], strides=strides[0]*strides[1], padding='same')(relu_his)\n",
        "                        dropout_his = Dropout(dropouts[2])(pool_his)\n",
        " \n",
        "                        oth = Lambda(lambda x: x[:, :, np.min(oth_indices):np.min(oth_indices)+len(oth_indices)])(input)\n",
        "                        conv_oth = Conv1D(filters=filters[3], kernel_size=filtersizes[0], kernel_initializer=random_normal(stddev=0.1), padding='same')(oth)\n",
        "                        relu_oth = ReLU()(conv_oth)\n",
        "                        pool_oth = MaxPooling1D(pool_size=poolsizes[1], strides=strides[0]*strides[1], padding='same')(relu_oth)\n",
        "                        dropout_oth = Dropout(dropouts[3])(pool_oth)\n",
        " \n",
        "                        concat = Concatenate(axis=2)([dropout2, dropout_dns, dropout_pol, dropout_his, dropout_oth])\n",
        "                        conv_concat = Conv1D(filters=filters[1], kernel_size=filtersizes[1], kernel_initializer=random_normal(stddev=0.1), padding='same')(concat)\n",
        "                        relu_concat = ReLU()(conv_concat)\n",
        "                        pool_concat = MaxPooling1D(pool_size=poolsizes[0], strides=5, padding='same')(relu_concat)\n",
        "                        dropout_concat = Dropout(dropouts[3])(pool_concat)\n",
        " \n",
        "                        dna_maxpool = GlobalMaxPool1D()(dropout2)\n",
        "                        dna_pred = Dense(1)(dna_maxpool)\n",
        " \n",
        "                        dns_maxpool = GlobalMaxPool1D()(dropout_dns)\n",
        "                        dns_pred = Dense(1)(dns_maxpool)\n",
        " \n",
        "                        pol_maxpool = GlobalMaxPool1D()(dropout_pol)\n",
        "                        pol_pred = Dense(1)(pol_maxpool)\n",
        " \n",
        "                        his_maxpool = GlobalMaxPool1D()(dropout_his)\n",
        "                        his_pred = Dense(1)(his_maxpool)\n",
        " \n",
        "                        oth_maxpool = GlobalMaxPool1D()(dropout_oth)\n",
        "                        oth_pred = Dense(1)(oth_maxpool)\n",
        " \n",
        "                        concat_maxpool = GlobalMaxPool1D()(dropout_concat)\n",
        "                        concat_pred = Dense(1)(concat_maxpool)\n",
        " \n",
        "                        preds = Concatenate()([dna_pred, dns_pred, pol_pred, his_pred, oth_pred, concat_pred])\n",
        "                        dropout_preds = Dropout(dropouts[1])(preds)\n",
        "                        pred_comb = Dense(1)(preds)\n",
        "                        output = Activation(\"sigmoid\")(pred_comb)\n",
        " \n",
        "                        model = Model(inputs=input, outputs=output)\n",
        " \n",
        "                        bst_model_path = 'CNN_omics' + '.h5'\n",
        "                        model_checkpoint = tf.keras.callbacks.ModelCheckpoint(bst_model_path, save_best_only=True, save_weights_only=True)\n",
        " \n",
        "                        model.compile(\n",
        "                            loss='binary_crossentropy',\n",
        "                            optimizer=tf.keras.optimizers.Adam(lr=INIT_LR),\n",
        "                            metrics=['accuracy', tf.keras.metrics.AUC()]\n",
        "                        )\n",
        " \n",
        "                        def lr_scheduler(epoch):\n",
        "                            return INIT_LR * 0.9 ** epoch\n",
        "  \n",
        "                        model.fit(\n",
        "                            batch_generator(X_train, y_train, BATCH_SIZE, train=True),\n",
        "                            epochs=EPOCHS,\n",
        "                            steps_per_epoch=X_train.shape[0] // BATCH_SIZE + 1,\n",
        "                            callbacks=[early_stopping, model_checkpoint, tf.keras.callbacks.LearningRateScheduler(lr_scheduler)],\n",
        "                            validation_data=batch_generator(X_test, y_test, BATCH_SIZE),\n",
        "                            validation_steps=X_test.shape[0] // BATCH_SIZE + 1,\n",
        "                            verbose=0,\n",
        "                            initial_epoch=0\n",
        "                        )\n",
        "                    \n",
        "                        model.load_weights(bst_model_path)\n",
        " \n",
        "                        metrics = model.evaluate(batch_generator(X_test, y_test, BATCH_SIZE), steps=X_test.shape[0] // BATCH_SIZE + 1)\n",
        " \n",
        "                        if metrics[0] < bst_loss[0]:\n",
        "                            bst_loss = metrics\n",
        "                        if metrics[1] > bst_acc[1]:\n",
        "                            bst_acc = metrics\n",
        "                        if metrics[2] > bst_auc[2]:\n",
        "                            bst_auc = metrics\n",
        "                    \n",
        "                        print(strides)\n",
        "                        print(poolsizes)\n",
        "                        print(filters)\n",
        "                        print(filtersizes)\n",
        "                        print(dropouts)\n",
        "                        print()\n",
        "                        print(metrics)\n",
        "                        print()\n",
        "                        print(bst_loss)\n",
        "                        print(bst_acc)\n",
        "                        print(bst_auc)\n",
        "                        print()\n",
        " \n",
        "                        f = open('/content/drive/My Drive/bioinf/' + 'test_results.txt', 'a')\n",
        " \n",
        "                        f.write(str(strides) + '\\n')\n",
        "                        f.write(str(poolsizes) + '\\n')\n",
        "                        f.write(str(filters) + '\\n')\n",
        "                        f.write(str(filtersizes) + '\\n')\n",
        "                        f.write(str(dropouts) + '\\n')\n",
        "                        f.write(str(metrics) + '\\n')\n",
        " \n",
        "                        f.close()\n",
        " \n",
        "                        used.append([strides, poolsizes, filters, filtersizes, dropouts])\n",
        "                        dump(used, '/content/drive/My Drive/bioinf/' + 'used.pkl', 3)"
      ],
      "execution_count": null,
      "outputs": []
    },
    {
      "cell_type": "code",
      "metadata": {
        "id": "lrL1feaaaQA2"
      },
      "source": [
        "from sklearn.model_selection import KFold\n",
        "\n",
        "kf = KFold(n_splits = 5, random_state = 42, shuffle=True)"
      ],
      "execution_count": null,
      "outputs": []
    },
    {
      "cell_type": "code",
      "metadata": {
        "id": "VGkjkhBCHw_-"
      },
      "source": [
        "!mkdir ../content/drive/MyDrive/bioinf/loss\n",
        "!mkdir ../content/drive/MyDrive/bioinf/acc\n",
        "!mkdir ../content/drive/MyDrive/bioinf/auc"
      ],
      "execution_count": null,
      "outputs": []
    },
    {
      "cell_type": "code",
      "metadata": {
        "id": "8YjW-9MqaRdj"
      },
      "source": [
        "from tensorflow.keras.models import Sequential, Model\n",
        "from tensorflow.keras.layers import Flatten, Dense, Activation, Dropout, LeakyReLU, Conv1D, GlobalMaxPool1D, MaxPooling1D, Input\n",
        "from tensorflow.keras.layers import Lambda, Concatenate, Reshape, Cropping1D, ReLU\n",
        "from tensorflow.keras.initializers import random_normal\n",
        "from tensorflow.keras.regularizers import L2, L1\n",
        "import tensorflow as tf\n",
        " \n",
        "s = reset_tf_session()\n",
        "INIT_LR = 5e-3\n",
        "BATCH_SIZE = 32\n",
        "EPOCHS = 50\n",
        " \n",
        "bst_loss = [0.54742585, 0.7274958, 0.7977035]\n",
        "bst_acc = [0.54742585, 0.7274958, 0.7977035]\n",
        "bst_auc = [0.54742585, 0.7274958, 0.7977035]\n",
        " \n",
        "for neurons in [30, 40, 50, 60]:\n",
        "    for dropout in [0.9]:\n",
        " \n",
        "        metrics = np.zeros(3)\n",
        "        counter = 0\n",
        " \n",
        "        for train, test in kf.split(X):\n",
        "                                \n",
        "            X_train = X[train]\n",
        "            y_train = y[train]\n",
        "                                \n",
        "            X_test = X[test]\n",
        "            y_test = y[test]\n",
        " \n",
        "            early_stopping = tf.keras.callbacks.EarlyStopping(monitor='val_loss', patience=10)\n",
        "            s = reset_tf_session()\n",
        " \n",
        "            input = Input(shape=(input_len, 4 + len(sub_feature_names)))\n",
        " \n",
        "            dna = Lambda(lambda x: x[:, :, np.min(dna_indices):np.min(dna_indices)+len(dna_indices)])(input)\n",
        "            conv1 = Conv1D(filters=30, kernel_size=10, kernel_initializer=random_normal(stddev=0.1), padding='same')(dna)\n",
        "            relu1 = ReLU()(conv1)\n",
        "            pool1 = MaxPooling1D(pool_size=5, strides=4, padding='same')(relu1)\n",
        "            dropout1 = Dropout(0.2)(pool1)\n",
        "            conv2 = Conv1D(filters=30, kernel_size=10, kernel_initializer=random_normal(stddev=0.1), padding='same')(pool1)\n",
        "            relu2 = ReLU()(conv2)\n",
        "            pool2 = MaxPooling1D(pool_size=5, strides=4, padding='same')(relu2)\n",
        "            dropout2 = Dropout(0.3)(pool2)\n",
        " \n",
        "            dns = Lambda(lambda x: x[:, :, np.min(dns_indices):np.min(dns_indices)+len(dns_indices)])(input)\n",
        "            conv_dns = Conv1D(filters=7, kernel_size=10, kernel_initializer=random_normal(stddev=0.1), padding='same')(dns)\n",
        "            relu_dns = ReLU()(conv_dns)\n",
        "            pool_dns = MaxPooling1D(pool_size=20, strides=16, padding='same')(relu_dns)\n",
        "            dropout_dns = Dropout(0.3)(pool_dns)\n",
        " \n",
        "            pol = Lambda(lambda x: x[:, :, np.min(pol_indices):np.min(pol_indices)+len(pol_indices)])(input)\n",
        "            conv_pol = Conv1D(filters=15, kernel_size=10, kernel_initializer=random_normal(stddev=0.1), padding='same')(pol)\n",
        "            relu_pol = ReLU()(conv_pol)\n",
        "            pool_pol = MaxPooling1D(pool_size=20, strides=16, padding='same')(relu_pol)\n",
        "            dropout_pol = Dropout(0.5)(pool_pol)\n",
        " \n",
        "            his = Lambda(lambda x: x[:, :, np.min(his_indices):np.min(his_indices)+len(his_indices)])(input)\n",
        "            conv_his = Conv1D(filters=15, kernel_size=10, kernel_initializer=random_normal(stddev=0.1), padding='same')(his)\n",
        "            relu_his = ReLU()(conv_his)\n",
        "            pool_his = MaxPooling1D(pool_size=20, strides=16, padding='same')(relu_his)\n",
        "            dropout_his = Dropout(0.75)(pool_his)\n",
        " \n",
        "            oth = Lambda(lambda x: x[:, :, np.min(oth_indices):np.min(oth_indices)+len(oth_indices)])(input)\n",
        "            conv_oth = Conv1D(filters=20, kernel_size=10, kernel_initializer=random_normal(stddev=0.1), padding='same')(oth)\n",
        "            relu_oth = ReLU()(conv_oth)\n",
        "            pool_oth = MaxPooling1D(pool_size=20, strides=16, padding='same')(relu_oth)\n",
        "            dropout_oth = Dropout(0.9)(pool_oth)\n",
        " \n",
        "            omics_sum = Lambda(lambda x: tf.keras.backend.sum(x[:, :, 4:] / 100, axis=1))(input)\n",
        "            dense_omics = Dense(neurons)(omics_sum)\n",
        "            relu_omics = ReLU()(dense_omics)\n",
        "            dropout_omics = Dropout(dropout)(relu_omics)\n",
        "            pred_omics = Dense(1)(dropout_omics)\n",
        " \n",
        "            concat = Concatenate(axis=2)([dropout2, dropout_dns, dropout_pol, dropout_his, dropout_oth])\n",
        "            conv_concat = Conv1D(filters=7, kernel_size=5, kernel_initializer=random_normal(stddev=0.1), padding='same')(concat)\n",
        "            relu_concat = ReLU()(conv_concat)\n",
        "            pool_concat = MaxPooling1D(pool_size=5, strides=5, padding='same')(relu_concat)\n",
        "            dropout_concat = Dropout(0.9)(pool_concat)\n",
        " \n",
        "            dna_maxpool = GlobalMaxPool1D()(dropout2)\n",
        "            dna_pred = Dense(1)(dna_maxpool)\n",
        " \n",
        "            dns_maxpool = GlobalMaxPool1D()(dropout_dns)\n",
        "            dns_pred = Dense(1)(dns_maxpool)\n",
        " \n",
        "            pol_maxpool = GlobalMaxPool1D()(dropout_pol)\n",
        "            pol_pred = Dense(1)(pol_maxpool)\n",
        " \n",
        "            his_maxpool = GlobalMaxPool1D()(dropout_his)\n",
        "            his_pred = Dense(1)(his_maxpool)\n",
        " \n",
        "            oth_maxpool = GlobalMaxPool1D()(dropout_oth)\n",
        "            oth_pred = Dense(1)(oth_maxpool)\n",
        " \n",
        "            concat_maxpool = GlobalMaxPool1D()(dropout_concat)\n",
        "            concat_pred = Dense(1)(concat_maxpool)\n",
        " \n",
        "            preds = Concatenate()([dna_pred, dns_pred, pol_pred, his_pred, oth_pred, concat_pred, pred_omics])\n",
        "            dropout_preds = Dropout(0.5)(preds)\n",
        "            pred_comb = Dense(1)(preds)\n",
        "            output = Activation(\"sigmoid\")(pred_comb)\n",
        " \n",
        "            model = Model(inputs=input, outputs=output) \n",
        " \n",
        "            bst_model_path = 'CNN_omics_' + str(counter) + '.h5'\n",
        "            model_checkpoint = tf.keras.callbacks.ModelCheckpoint(bst_model_path, monitor = 'val_loss',\n",
        "                                                                  save_best_only=True, save_weights_only=False)\n",
        "                                \n",
        "            model.compile(\n",
        "                loss='binary_crossentropy',\n",
        "                optimizer=tf.keras.optimizers.Adam(lr=INIT_LR),\n",
        "                metrics=['accuracy', tf.keras.metrics.AUC()]\n",
        "            )\n",
        " \n",
        "            def lr_scheduler(epoch):\n",
        "                return INIT_LR * 0.9 ** epoch\n",
        "        \n",
        "            model.fit(\n",
        "                batch_generator(X_train, y_train, BATCH_SIZE, train=True),\n",
        "                epochs=EPOCHS,\n",
        "                steps_per_epoch=X_train.shape[0] // BATCH_SIZE + 1,\n",
        "                callbacks=[early_stopping, model_checkpoint, tf.keras.callbacks.LearningRateScheduler(lr_scheduler)],\n",
        "                validation_data=batch_generator(X_test, y_test, BATCH_SIZE),\n",
        "                validation_steps=X_test.shape[0] // BATCH_SIZE + 1,\n",
        "                verbose=0,\n",
        "                initial_epoch=0\n",
        "            )\n",
        " \n",
        "            model = tf.keras.models.load_model(bst_model_path)\n",
        " \n",
        "            metrics += np.array(model.evaluate(batch_generator(X_test, y_test, BATCH_SIZE), steps=X_test.shape[0] // BATCH_SIZE + 1))\n",
        " \n",
        "            counter += 1\n",
        " \n",
        "        metrics = metrics / 5\n",
        "        print()\n",
        "        print(neurons)\n",
        "        print(dropout)              \n",
        "        print(metrics)\n",
        "        print()\n",
        " \n",
        "        if metrics[0] < bst_loss[0]:\n",
        "            bst_loss = metrics\n",
        "            for i in range(5):\n",
        "                name = 'CNN_omics_' + str(i) + '.h5'\n",
        "                os.system('cp ' + name + ' ../content/drive/MyDrive/bioinf/loss/' + name)\n",
        "        if metrics[1] > bst_acc[1]:\n",
        "            bst_acc = metrics\n",
        "            for i in range(5):\n",
        "                name = 'CNN_omics_' + str(i) + '.h5'\n",
        "                os.system('cp ' + name + ' ../content/drive/MyDrive/bioinf/acc/' + name)\n",
        "        if metrics[2] > bst_auc[2]:\n",
        "            bst_auc = metrics\n",
        "            for i in range(5):\n",
        "                name = 'CNN_omics_' + str(i) + '.h5'\n",
        "                os.system('cp ' + name + ' ../content/drive/MyDrive/bioinf/auc/' + name)\n",
        " \n",
        "        print(bst_loss)\n",
        "        print(bst_acc)\n",
        "        print(bst_auc)\n",
        "        print()"
      ],
      "execution_count": null,
      "outputs": []
    },
    {
      "cell_type": "code",
      "metadata": {
        "id": "EjVHFrzMeGlv"
      },
      "source": [
        "from tensorflow.keras.models import Sequential, Model\n",
        "from tensorflow.keras.layers import Flatten, Dense, Activation, Dropout, LeakyReLU, Conv1D, GlobalMaxPool1D, MaxPooling1D, Input\n",
        "from tensorflow.keras.layers import Lambda, Concatenate, Reshape, Cropping1D, ReLU\n",
        "from tensorflow.keras.initializers import random_normal\n",
        "from tensorflow.keras.regularizers import L2, L1\n",
        "import tensorflow as tf\n",
        " \n",
        "def inverse_sigmoid(y):\n",
        "    return - np.log((1-y)/y)"
      ],
      "execution_count": null,
      "outputs": []
    },
    {
      "cell_type": "code",
      "metadata": {
        "colab": {
          "base_uri": "https://localhost:8080/",
          "height": 66,
          "referenced_widgets": [
            "e2fbbd3a6f424cc8bd9e6c7cef675e69",
            "c57902b50abb45c5aaa89399b5d9485e",
            "5cae710372394f9c96fa806281ecb7db",
            "19fd38c10598412a9aa75948dd5f1bfc",
            "6916bfbfeead4e51b56e99220953178f",
            "a18fe10fce2a48e1938995e18de1e6d0",
            "692406b550134b46ac11ddb5db950ee1",
            "26c6dcda31604af1abde1b205bb4b80b"
          ]
        },
        "id": "0O5A5Bg75FTB",
        "outputId": "46d826b9-e21b-4705-f538-4db2e019439e"
      },
      "source": [
        "\n",
        " \n",
        "values = []\n",
        " \n",
        "for j in tqdm(range(len(sub_feature_names))):\n",
        "    cur = []\n",
        "    for i in range(5):\n",
        "        model = tf.keras.models.load_model('../content/drive/MyDrive/bioinf/loss/' + 'CNN_omics_' + str(i) + '.h5')\n",
        "        x = np.zeros((800, len(sub_feature_names)+4))\n",
        "        x[:, 4 + j] = np.ones(800)\n",
        "        cur.append(inverse_sigmoid(model(np.array([x])).numpy()[0][0]))\n",
        "    cur = np.array(cur)\n",
        "    if np.all(cur >= 0):\n",
        "        values.append(np.min(cur))\n",
        "    elif np.all(cur <= 0):\n",
        "        values.append(np.max(cur))\n",
        "    else:\n",
        "        values.append(0)"
      ],
      "execution_count": null,
      "outputs": [
        {
          "output_type": "display_data",
          "data": {
            "application/vnd.jupyter.widget-view+json": {
              "model_id": "e2fbbd3a6f424cc8bd9e6c7cef675e69",
              "version_minor": 0,
              "version_major": 2
            },
            "text/plain": [
              "HBox(children=(FloatProgress(value=0.0, max=320.0), HTML(value='')))"
            ]
          },
          "metadata": {
            "tags": []
          }
        },
        {
          "output_type": "stream",
          "text": [
            "\n"
          ],
          "name": "stdout"
        }
      ]
    },
    {
      "cell_type": "code",
      "metadata": {
        "id": "ljNqQVY971f6"
      },
      "source": [
        "values = np.array(values)"
      ],
      "execution_count": null,
      "outputs": []
    },
    {
      "cell_type": "code",
      "metadata": {
        "colab": {
          "base_uri": "https://localhost:8080/"
        },
        "id": "OtsDr9KuyW1q",
        "outputId": "64df93e9-4574-4e7d-b610-51d0914170dd"
      },
      "source": [
        "dump(values, '../content/drive/MyDrive/bioinf/values.pkl', 3)"
      ],
      "execution_count": null,
      "outputs": [
        {
          "output_type": "execute_result",
          "data": {
            "text/plain": [
              "['../content/drive/MyDrive/bioinf/values.pkl']"
            ]
          },
          "metadata": {
            "tags": []
          },
          "execution_count": 14
        }
      ]
    },
    {
      "cell_type": "code",
      "metadata": {
        "id": "kAlfJ6I10WZZ"
      },
      "source": [
        "values = load('../content/drive/MyDrive/bioinf/values.pkl')"
      ],
      "execution_count": null,
      "outputs": []
    },
    {
      "cell_type": "code",
      "metadata": {
        "id": "tOTE78Rl9ZUs"
      },
      "source": [
        "for i in np.argsort(values)[:15]:\n",
        "    print(sub_feature_names[i])\n",
        "    print(values[i])\n",
        "    print()\n",
        "print()\n",
        "for i in np.argsort(values)[:-15:-1]:\n",
        "    print(sub_feature_names[i])\n",
        "    print(values[i])\n",
        "    print()"
      ],
      "execution_count": null,
      "outputs": []
    },
    {
      "cell_type": "code",
      "metadata": {
        "colab": {
          "base_uri": "https://localhost:8080/"
        },
        "id": "a3Xbno45dHzt",
        "outputId": "feb15df9-cb57-42e4-83c0-cdb595792e28"
      },
      "source": [
        "neg_max = []\n",
        "pos_max = []\n",
        " \n",
        "def from_ind_to_letter(i):\n",
        "    if i == 0:\n",
        "        return 'A'\n",
        "    if i == 1:\n",
        "        return 'T'\n",
        "    if i == 2:\n",
        "        return 'G'\n",
        "    if i == 3:\n",
        "        return 'C'\n",
        " \n",
        "for i in range(5):\n",
        "    model = tf.keras.models.load_model('../content/drive/MyDrive/bioinf/loss/' + 'CNN_omics_' + str(i) + '.h5')\n",
        "    cur_neg_max = []\n",
        "    cur_pos_max = []\n",
        "    for j in range(model.layers[2].weights[0].numpy().shape[2]):\n",
        "        filter = model.layers[2].weights[0].numpy()[:,:,j]\n",
        "        cur_neg = 0\n",
        "        cur_pos = 0\n",
        "        cur_neg_motif = ''\n",
        "        cur_pos_motif = ''\n",
        "        for pos in filter:\n",
        "            if np.max(pos) > 0.05:\n",
        "                cur_pos += np.max(pos)\n",
        "                cur_pos_motif = cur_pos_motif + from_ind_to_letter(np.argmax(pos))\n",
        "            else:\n",
        "                cur_pos_motif = cur_pos_motif + '-'\n",
        "            if np.min(pos) < - 0.05:\n",
        "                cur_neg += np.min(pos)\n",
        "                cur_neg_motif = cur_neg_motif + from_ind_to_letter(np.argmin(pos))\n",
        "            else:\n",
        "                cur_neg_motif = cur_neg_motif + '-'\n",
        "        cur_neg_max.append((j, cur_neg, cur_neg_motif))\n",
        "        cur_pos_max.append((j, cur_pos, cur_pos_motif))\n",
        "    pos_max.append([cur_pos_max[k] for k in np.argsort(np.array([x[1] for x in cur_pos_max]))[-3:]])\n",
        "    neg_max.append([cur_neg_max[k] for k in np.argsort(np.array([x[1] for x in cur_neg_max]))[:3]])\n",
        " \n",
        "print(pos_max)\n",
        "print(neg_max)"
      ],
      "execution_count": null,
      "outputs": [
        {
          "output_type": "stream",
          "text": [
            "[[(15, 1.7735652774572372, 'GCCTACGATT'), (13, 1.8740838430821896, 'GGTCGTGGT-'), (26, 1.9125818982720375, 'GACTCGAGC-')], [(7, 1.5820410251617432, 'ACATTTG-CC'), (2, 1.6244314536452293, 'CAT-AAAAAT'), (8, 1.9158712700009346, 'AATACAACCA')], [(1, 1.8158085197210312, 'TAGCACTTAT'), (17, 1.8493582643568516, 'C-GGTGGAGT'), (20, 1.8910151571035385, 'GAATGTGC-C')], [(26, 2.0463351011276245, 'GAGTTGGAGA'), (16, 2.144546091556549, 'GTACCCTCTA'), (0, 2.493312433362007, 'GTGGCGGCTG')], [(22, 2.0508105009794235, 'GAATTAGAAC'), (12, 2.200961656868458, 'A-GTG-TGTC'), (17, 2.287252701818943, 'ACTGGGACAT')]]\n",
            "[[(17, -2.6729113459587097, 'CTAGGTGTAA'), (9, -2.633921191096306, 'CACTACGTAC'), (16, -2.6007568016648293, 'CATGAGCAAT')], [(8, -3.5366570726037025, 'CGATATCAGG'), (9, -3.2966136038303375, 'CAAATACTAC'), (13, -3.2187427952885628, 'GCTGTTTCGT')], [(17, -3.311016947031021, 'AATAGTACAA'), (23, -3.1568370312452316, 'AGTCCGCTAT'), (26, -2.9047449231147766, 'TGTACTCTTA')], [(16, -3.9146843999624252, 'AACTTGCAGC'), (7, -3.503375619649887, 'TGTAGTTATC'), (5, -3.03342155367136, 'CGTA-GACGT')], [(11, -3.735630325973034, 'CCTTCAGGTC'), (20, -3.648080989718437, 'TGGATATCGA'), (15, -3.592554956674576, 'TATACCCGTA')]]\n"
          ],
          "name": "stdout"
        }
      ]
    },
    {
      "cell_type": "code",
      "metadata": {
        "colab": {
          "base_uri": "https://localhost:8080/"
        },
        "id": "P-EQpNtCCPW_",
        "outputId": "32174afc-2390-45d2-c5d3-aa86e7572fc9"
      },
      "source": [
        "pos_max[0]"
      ],
      "execution_count": null,
      "outputs": [
        {
          "output_type": "execute_result",
          "data": {
            "text/plain": [
              "[(15, 1.7735652774572372, 'GCCTACGATT'),\n",
              " (13, 1.8740838430821896, 'GGTCGTGGT-'),\n",
              " (26, 1.9125818982720375, 'GACTCGAGC-')]"
            ]
          },
          "metadata": {
            "tags": []
          },
          "execution_count": 13
        }
      ]
    },
    {
      "cell_type": "code",
      "metadata": {
        "id": "6UHZj682E0vz"
      },
      "source": [
        "def from_motif_to_input(motif):\n",
        "    x = np.zeros((800, 4+len(sub_feature_names)))\n",
        "    for i in range(800):\n",
        "        cur = motif[i % len(motif)]\n",
        "        if cur == 'A':\n",
        "            x[i][0] = 1\n",
        "        elif cur == 'T':\n",
        "            x[i][1] = 1\n",
        "        elif cur == 'G':\n",
        "            x[i][2] = 1\n",
        "        elif cur == 'C':\n",
        "            x[i][3] = 1\n",
        "    return x"
      ],
      "execution_count": null,
      "outputs": []
    },
    {
      "cell_type": "code",
      "metadata": {
        "colab": {
          "base_uri": "https://localhost:8080/"
        },
        "id": "yDdvCMmBD337",
        "outputId": "8c420d3a-9a9a-420b-b860-d1774de30446"
      },
      "source": [
        "for motives in pos_max:\n",
        "    for motif in motives:\n",
        "        cur = []\n",
        "        for i in range(5):\n",
        "            model = tf.keras.models.load_model('../content/drive/MyDrive/bioinf/loss/' + 'CNN_omics_' + str(i) + '.h5')\n",
        "            cur.append(inverse_sigmoid(model(np.array([from_motif_to_input(motif[2])]))[0][0]))\n",
        "        print(motif[2])\n",
        "        cur = np.array(cur)\n",
        "        if np.all(cur >= 0):\n",
        "            print(np.min(cur))\n",
        "        elif np.all(cur <= 0):\n",
        "            print(np.max(cur))\n",
        "        else:\n",
        "            print(0)\n",
        "        print()"
      ],
      "execution_count": null,
      "outputs": [
        {
          "output_type": "stream",
          "text": [
            "GCCTACGATT\n",
            "-0.5145577\n",
            "\n",
            "GGTCGTGGT-\n",
            "0.5328543\n",
            "\n",
            "GACTCGAGC-\n",
            "0\n",
            "\n",
            "ACATTTG-CC\n",
            "-0.5200967\n",
            "\n",
            "CAT-AAAAAT\n",
            "-1.2004987\n",
            "\n",
            "AATACAACCA\n",
            "0\n",
            "\n",
            "TAGCACTTAT\n",
            "-2.0805247\n",
            "\n",
            "C-GGTGGAGT\n",
            "0.089564756\n",
            "\n",
            "GAATGTGC-C\n",
            "0\n",
            "\n",
            "GAGTTGGAGA\n",
            "0\n",
            "\n",
            "GTACCCTCTA\n",
            "0\n",
            "\n",
            "GTGGCGGCTG\n",
            "0.632115\n",
            "\n",
            "GAATTAGAAC\n",
            "-0.42549527\n",
            "\n",
            "A-GTG-TGTC\n",
            "0\n",
            "\n",
            "ACTGGGACAT\n",
            "-0.46186888\n",
            "\n"
          ],
          "name": "stdout"
        }
      ]
    },
    {
      "cell_type": "code",
      "metadata": {
        "colab": {
          "base_uri": "https://localhost:8080/"
        },
        "id": "28kl71lrFC6Z",
        "outputId": "a850a4da-ae52-4b47-e528-cb2019f8c36f"
      },
      "source": [
        "for motives in neg_max:\n",
        "    for motif in motives:\n",
        "        cur = []\n",
        "        for i in range(5):\n",
        "            model = tf.keras.models.load_model('../content/drive/MyDrive/bioinf/loss/' + 'CNN_omics_' + str(i) + '.h5')\n",
        "            cur.append(inverse_sigmoid(model(np.array([from_motif_to_input(motif[2])]))[0][0]))\n",
        "        print(motif[2])\n",
        "        cur = np.array(cur)\n",
        "        if np.all(cur >= 0):\n",
        "            print(np.min(cur))\n",
        "        elif np.all(cur <= 0):\n",
        "            print(np.max(cur))\n",
        "        else:\n",
        "            print(0)\n",
        "        print()"
      ],
      "execution_count": null,
      "outputs": [
        {
          "output_type": "stream",
          "text": [
            "CTAGGTGTAA\n",
            "-0.16310517\n",
            "\n",
            "CACTACGTAC\n",
            "-0.5436213\n",
            "\n",
            "CATGAGCAAT\n",
            "-1.0915186\n",
            "\n",
            "CGATATCAGG\n",
            "-0.430047\n",
            "\n",
            "CAAATACTAC\n",
            "0\n",
            "\n",
            "GCTGTTTCGT\n",
            "0.15196177\n",
            "\n",
            "AATAGTACAA\n",
            "-0.29923368\n",
            "\n",
            "AGTCCGCTAT\n",
            "0\n",
            "\n",
            "TGTACTCTTA\n",
            "-0.7459335\n",
            "\n",
            "AACTTGCAGC\n",
            "-0.41212448\n",
            "\n",
            "TGTAGTTATC\n",
            "0\n",
            "\n",
            "CGTA-GACGT\n",
            "-0.09733481\n",
            "\n",
            "CCTTCAGGTC\n",
            "0\n",
            "\n",
            "TGGATATCGA\n",
            "-1.151333\n",
            "\n",
            "TATACCCGTA\n",
            "-0.56213033\n",
            "\n"
          ],
          "name": "stdout"
        }
      ]
    }
  ]
}